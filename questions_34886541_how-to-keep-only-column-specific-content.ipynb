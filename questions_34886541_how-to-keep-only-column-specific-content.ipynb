{
 "cells": [
  {
   "cell_type": "code",
   "execution_count": null,
   "metadata": {
    "collapsed": true
   },
   "outputs": [],
   "source": [
    "http://stackoverflow.com/questions/34886541/how-to-keep-only-column-specific-content"
   ]
  },
  {
   "cell_type": "code",
   "execution_count": 1,
   "metadata": {
    "collapsed": false
   },
   "outputs": [
    {
     "name": "stdout",
     "output_type": "stream",
     "text": [
      "/Users/antoniovcasanova/Programs/AWK/stackoverflow/34886541\r\n"
     ]
    }
   ],
   "source": [
    "!pwd"
   ]
  },
  {
   "cell_type": "code",
   "execution_count": 5,
   "metadata": {
    "collapsed": false
   },
   "outputs": [
    {
     "name": "stdout",
     "output_type": "stream",
     "text": [
      "awk version 20070501\r\n"
     ]
    }
   ],
   "source": [
    "!awk -version"
   ]
  },
  {
   "cell_type": "code",
   "execution_count": 4,
   "metadata": {
    "collapsed": false
   },
   "outputs": [
    {
     "name": "stdout",
     "output_type": "stream",
     "text": [
      "List1 List2 List3  \r\n",
      "1 2 3 \r\n",
      "2 3 4 \r\n",
      "3 4 5 \r\n",
      "4 5 6 \r\n",
      "5 6 7 \r\n",
      "6 7 a \r\n",
      "7 8 b \r\n",
      "a d c \r\n"
     ]
    }
   ],
   "source": [
    "!cat input.txt"
   ]
  },
  {
   "cell_type": "code",
   "execution_count": 2,
   "metadata": {
    "collapsed": false
   },
   "outputs": [
    {
     "name": "stdout",
     "output_type": "stream",
     "text": [
      "function abc(x,y,z) \r\n",
      "       {for(k in x) if(!(k in y || k in z)) \r\n",
      "           printf \"%s\", FS k; print \"\"\r\n",
      "       } \r\n",
      "\r\n",
      "  NR==1{split($0,h); next} \r\n",
      "       {a[$1];b[$2];c[$3]}\r\n",
      "END{\r\n",
      "printf \"%s\", h[1]; abc(a,b,c); \r\n",
      "printf \"%s\", h[2]; abc(b,a,c); \r\n",
      "printf \"%s\", h[3]; abc(c,a,b) \r\n",
      "}\r\n"
     ]
    }
   ],
   "source": [
    "cat column-unique-example1.awk"
   ]
  },
  {
   "cell_type": "code",
   "execution_count": 3,
   "metadata": {
    "collapsed": false
   },
   "outputs": [
    {
     "name": "stdout",
     "output_type": "stream",
     "text": [
      "List1 1\r\n",
      "List2 d 8\r\n",
      "List3 b c\r\n"
     ]
    }
   ],
   "source": [
    "!awk -f column-unique-example1.awk input.txt"
   ]
  },
  {
   "cell_type": "code",
   "execution_count": 6,
   "metadata": {
    "collapsed": false
   },
   "outputs": [
    {
     "name": "stdout",
     "output_type": "stream",
     "text": [
      "FNR==NR{\r\n",
      "   for(i=1; i<=NF; i++)\r\n",
      "      dup[$i]++\r\n",
      "   fld=NF\r\n",
      "   next\r\n",
      "} {\r\n",
      "  for(i=1; i<=NF; i++)\r\n",
      "     if (dup[$i]<=1) {\r\n",
      "        for(j=1; j<i; j++)\r\n",
      "           if (dup[$j]>1)\r\n",
      "              printf \"\\t\"\r\n",
      "        p++\r\n",
      "        printf \"%s%s\", $i, (p && p%fld == 0) ? ORS : OFS\r\n",
      "     }\r\n",
      "}\r\n",
      "END{\r\n",
      "  print \"\"\r\n",
      "}\r\n"
     ]
    }
   ],
   "source": [
    "!cat column-unique-example2.awk "
   ]
  },
  {
   "cell_type": "code",
   "execution_count": 7,
   "metadata": {
    "collapsed": false
   },
   "outputs": [
    {
     "name": "stdout",
     "output_type": "stream",
     "text": [
      "List1 List2 List3\r\n",
      "1 \t8 \tb\r\n",
      "\td \tc \r\n"
     ]
    }
   ],
   "source": [
    "!awk -f column-unique-example2.awk input.txt input.txt"
   ]
  }
 ],
 "metadata": {
  "kernelspec": {
   "display_name": "Python 3",
   "language": "python",
   "name": "python3"
  },
  "language_info": {
   "codemirror_mode": {
    "name": "ipython",
    "version": 3
   },
   "file_extension": ".py",
   "mimetype": "text/x-python",
   "name": "python",
   "nbconvert_exporter": "python",
   "pygments_lexer": "ipython3",
   "version": "3.5.0"
  }
 },
 "nbformat": 4,
 "nbformat_minor": 0
}
