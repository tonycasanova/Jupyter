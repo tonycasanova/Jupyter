{
 "cells": [
  {
   "cell_type": "code",
   "execution_count": 8,
   "metadata": {
    "collapsed": false
   },
   "outputs": [
    {
     "name": "stdout",
     "output_type": "stream",
     "text": [
      "REBOL-jupyter.ipynb         \u001b[31mjupyter_rebol.reb\u001b[m\u001b[m           \u001b[31mlist.reb\u001b[m\u001b[m\r\n",
      "casanova_rebol_examples.reb jupyter_rebol_test.reb      rebol_date_notes.txt\r\n"
     ]
    }
   ],
   "source": [
    "!ls"
   ]
  },
  {
   "cell_type": "code",
   "execution_count": 7,
   "metadata": {
    "collapsed": false
   },
   "outputs": [
    {
     "name": "stdout",
     "output_type": "stream",
     "text": [
      "#!/usr/bin/rebol -s\r\n",
      "REBOL [Title: \"Example script\"]\r\n",
      "foreach file read %./ [print [file size? file]]\r\n"
     ]
    }
   ],
   "source": [
    "!cat list.reb"
   ]
  },
  {
   "cell_type": "code",
   "execution_count": 5,
   "metadata": {
    "collapsed": false
   },
   "outputs": [
    {
     "name": "stdout",
     "output_type": "stream",
     "text": [
      "\r",
      "\u001b[H\u001b[JREBOL/Core 2.7.8.2.5 (2-Jan-2011)\n",
      "\r",
      "Copyright 2011 REBOL Technologies\n",
      "\r",
      "REBOL is a Trademark of REBOL Technologies\n",
      "\r",
      "All rights reserved.\n",
      "\r\n",
      "\r",
      "Finger protocol loaded\r\n",
      "Whois protocol loaded\r\n",
      "Daytime protocol loaded\r\n",
      "SMTP protocol loaded\r\n",
      "ESMTP protocol loaded\r\n",
      "POP protocol loaded\r\n",
      "IMAP protocol loaded\r\n",
      "HTTP protocol loaded\r\n",
      "FTP protocol loaded\r\n",
      "NNTP protocol loaded\r\n",
      "Script: \"Example script\" (none)\r\n",
      ".ipynb_checkpoints/ 0\r\n",
      "casanova_rebol_examples.reb 77\r\n",
      "jupyter_rebol.reb 126\r\n",
      "jupyter_rebol_test.reb 176\r\n",
      "list.reb 100\r\n",
      "REBOL-jupyter.ipynb 2211\r\n",
      "rebol_date_notes.txt 3897\r\n"
     ]
    }
   ],
   "source": [
    "!./list.reb"
   ]
  },
  {
   "cell_type": "code",
   "execution_count": 1,
   "metadata": {
    "collapsed": false
   },
   "outputs": [
    {
     "name": "stdout",
     "output_type": "stream",
     "text": [
      "total 48\r\n",
      "-rw-r--r--  1 tonyvcasanova  staff  2211 Nov 22 12:22 REBOL-jupyter.ipynb\r\n",
      "-rw-r--r--  1 tonyvcasanova  staff    77 Nov 22 11:19 casanova_rebol_examples.reb\r\n",
      "-rwxr-xr-x  1 tonyvcasanova  staff   126 Nov 22 12:10 \u001b[31mjupyter_rebol.reb\u001b[m\u001b[m\r\n",
      "-rw-r--r--  1 tonyvcasanova  staff   176 Nov 22 11:29 jupyter_rebol_test.reb\r\n",
      "-rwxr-xr-x  1 tonyvcasanova  staff   100 Nov 22 12:02 \u001b[31mlist.reb\u001b[m\u001b[m\r\n",
      "-rw-r--r--  1 tonyvcasanova  staff  3897 Nov 22 11:08 rebol_date_notes.txt\r\n"
     ]
    }
   ],
   "source": [
    "!ls -l"
   ]
  },
  {
   "cell_type": "code",
   "execution_count": 3,
   "metadata": {
    "collapsed": false
   },
   "outputs": [
    {
     "name": "stdout",
     "output_type": "stream",
     "text": [
      "\u001b[H\u001b[JREBOL/Core 2.7.8.2.5 (2-Jan-2011)\n",
      "Copyright 2011 REBOL Technologies\n",
      "REBOL is a Trademark of REBOL Technologies\n",
      "All rights reserved.\n",
      "\n",
      "Finger protocol loaded\n",
      "Whois protocol loaded\n",
      "Daytime protocol loaded\n",
      "SMTP protocol loaded\n",
      "ESMTP protocol loaded\n",
      "POP protocol loaded\n",
      "IMAP protocol loaded\n",
      "HTTP protocol loaded\n",
      "FTP protocol loaded\n",
      "NNTP protocol loaded\n",
      "Script: \"Jupyter Notebok/REBOL Example Hello World!\" (none)\n",
      "connecting to: webcentive.com\n",
      "Script: \"Hello World!!!\" (22-Nov-2015)\n",
      "Hello World!!!\n",
      "Hello World!!!\n",
      "22-Nov-2015\n",
      "2.7.8.2.5\n",
      "Core\n",
      "2-Jan-2011/15:25:27-8:00\n",
      "Today is: 22-Nov-2015/12:24:20-5:00\n",
      "This script code:\n",
      "connecting to: webcentive.com\n",
      "Rebol [\n",
      "    Title: \"Hello World!!!\"\n",
      "    File: %helloworld.reb\n",
      "        Date: 22-Nov-2015\n",
      "    Copyright: [2015 \"Tony V Casanova\" - Insert Copyright here.]\n",
      "    License: {\n",
      "    }\n",
      "    Author: \"Tony Casanova\"\n",
      "    Purpose: \"Test framework\"\n",
      "]\n",
      "\n",
      "print \"Hello World!!!\"\n",
      "\n",
      "print system/script/title\n",
      "print system/script/header/date\n",
      "\n",
      "print system/version\n",
      "print system/product\n",
      "print system/build\n",
      "\n",
      "\n",
      "print [\"Today is:\" now]\n",
      "\n",
      "\n",
      "print \"This script code:\"\n",
      "\n",
      "print read http://webcentive.com/Rebol/helloworld.reb\n",
      "\n"
     ]
    }
   ],
   "source": [
    "!./jupyter_rebol.reb"
   ]
  },
  {
   "cell_type": "code",
   "execution_count": 4,
   "metadata": {
    "collapsed": false
   },
   "outputs": [
    {
     "name": "stdout",
     "output_type": "stream",
     "text": [
      "/usr/bin/rebol\r\n"
     ]
    }
   ],
   "source": [
    "!which rebol"
   ]
  },
  {
   "cell_type": "code",
   "execution_count": null,
   "metadata": {
    "collapsed": true
   },
   "outputs": [],
   "source": []
  }
 ],
 "metadata": {
  "kernelspec": {
   "display_name": "Python 3",
   "language": "python",
   "name": "python3"
  },
  "language_info": {
   "codemirror_mode": {
    "name": "ipython",
    "version": 3
   },
   "file_extension": ".py",
   "mimetype": "text/x-python",
   "name": "python",
   "nbconvert_exporter": "python",
   "pygments_lexer": "ipython3",
   "version": "3.5.0"
  }
 },
 "nbformat": 4,
 "nbformat_minor": 0
}
